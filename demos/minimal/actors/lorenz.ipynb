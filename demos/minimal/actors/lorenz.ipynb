{
 "cells": [
  {
   "cell_type": "code",
   "execution_count": 1,
   "id": "98c54909-f50a-42f6-a49c-8f249a279e19",
   "metadata": {},
   "outputs": [
    {
     "data": {
      "application/vnd.jupyter.widget-view+json": {
       "model_id": "6037601cdd0d473ba4bfb0a9c639e841",
       "version_major": 2,
       "version_minor": 0
      },
      "text/plain": [
       "Image(value=b'\\x89PNG\\r\\n\\x1a\\n\\x00\\x00\\x00\\rIHDR\\x00\\x00\\x01,\\x00\\x00\\x007\\x08\\x06\\x00\\x00\\x00\\xb6\\x1bw\\x99\\x…"
      ]
     },
     "metadata": {},
     "output_type": "display_data"
    },
    {
     "name": "stderr",
     "output_type": "stream",
     "text": [
      "No windowing system present. Using surfaceless platform\n",
      "No config found!\n",
      "No config found!\n"
     ]
    },
    {
     "name": "stdout",
     "output_type": "stream",
     "text": [
      "Available devices:\n",
      "✅ (default) | NVIDIA GeForce GTX 1080 Ti | DiscreteGPU | Vulkan | 555.42.06\n",
      "❗ | llvmpipe (LLVM 15.0.7, 256 bits) | CPU | Vulkan | Mesa 23.2.1-1ubuntu3.1~22.04.2 (LLVM 15.0.7)\n",
      "❗ | NVIDIA GeForce GTX 1080 Ti/PCIe/SSE2 | Unknown | OpenGL | \n",
      "Listening for updated Lorenz coordinates...\n"
     ]
    },
    {
     "data": {
      "application/vnd.jupyter.widget-view+json": {
       "model_id": "261fac1ee2ee4218a9f20e74340982ce",
       "version_major": 2,
       "version_minor": 0
      },
      "text/plain": [
       "RFBOutputContext()"
      ]
     },
     "metadata": {},
     "output_type": "display_data"
    },
    {
     "name": "stderr",
     "output_type": "stream",
     "text": [
      "/home/edwin/edwin_improv/fpl/lib/python3.10/site-packages/fastplotlib/graphics/_features/_base.py:21: UserWarning: casting float64 array to float32\n",
      "  warn(f\"casting {array.dtype} array to float32\")\n"
     ]
    },
    {
     "name": "stdout",
     "output_type": "stream",
     "text": [
      "Automatically created module for IPython interactive environment\n"
     ]
    },
    {
     "data": {
      "application/vnd.jupyter.widget-view+json": {
       "model_id": "665ab12b09854dc4acb1d1fe23593340",
       "version_major": 2,
       "version_minor": 0
      },
      "text/html": [
       "<div class='snapshot-665ab12b09854dc4acb1d1fe23593340' style='position:relative;'><img src='data:image/png;base64,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' style='width:700.0px;height:560.0px;' /><div style='position: absolute; top:0; left:0; padding:1px 3px; background: #777; color:#fff; font-size: 90%; font-family:sans-serif; '>snapshot</div></div>"
      ],
      "text/plain": [
       "JupyterWgpuCanvas(css_height='560px', css_width='700px')"
      ]
     },
     "metadata": {},
     "output_type": "display_data"
    }
   ],
   "source": [
    "import zmq\n",
    "import numpy as np\n",
    "import fastplotlib as fpl\n",
    "import time  # Import time module\n",
    "\n",
    "# Set up ZMQ subscriber\n",
    "context = zmq.Context()\n",
    "socket = context.socket(zmq.SUB)\n",
    "socket.connect(\"tcp://127.0.0.1:5555\")\n",
    "socket.setsockopt_string(zmq.SUBSCRIBE, \"\")\n",
    "\n",
    "print(\"Listening for updated Lorenz coordinates...\")\n",
    "\n",
    "try:\n",
    "    # Example num_steps (adjust based on your use case)\n",
    "    num_steps = 100  # This must match the expected size of xyzs\n",
    "    figure = fpl.Figure(\n",
    "        cameras=\"3d\",\n",
    "        controller_types=\"fly\",\n",
    "        size=(700, 560)\n",
    "    )\n",
    "    # Initialize coordinates array with zeros\n",
    "    lorenz_data = np.zeros((1, num_steps + 200, 3), dtype=np.float64)\n",
    "    # Keep track of the current frame index being filled\n",
    "    current_index = 0\n",
    "    # line_graphic = figure[0, 0].add_line(data=coordinates_array, name=\"line\")\n",
    "    while current_index < num_steps + 1:\n",
    "        # Receive raw message\n",
    "        msg = socket.recv()\n",
    "\n",
    "        # Convert the message back to a numpy array\n",
    "        data = np.frombuffer(msg, dtype=np.float64)\n",
    "\n",
    "        # Separate coordinates and frame index\n",
    "        coordinates = data[:-1]  # All except last element\n",
    "        frame_index = int(data[-1])  # Last element is the frame index\n",
    "\n",
    "        # Fill the corresponding row in the coordinates array\n",
    "        lorenz_data[0][current_index] = coordinates\n",
    "        \n",
    "        # Increment the current index\n",
    "        current_index += 1\n",
    "        \n",
    "    lorenz_line = figure[0, 0].add_line_collection(data=lorenz_data, thickness=.1, cmap=\"tab10\")\n",
    "    figure.show()\n",
    "\n",
    "    # Wait for 2 seconds before showing the updated figure\n",
    "    time.sleep(2)\n",
    "\n",
    "    figure.clear()\n",
    "\n",
    "    while current_index < num_steps + 100:\n",
    "        # Receive raw message\n",
    "        msg = socket.recv()\n",
    "\n",
    "        # Convert the message back to a numpy array\n",
    "        data = np.frombuffer(msg, dtype=np.float64)\n",
    "\n",
    "        # Separate coordinates and frame index\n",
    "        coordinates = data[:-1]  # All except last element\n",
    "        frame_index = int(data[-1])  # Last element is the frame index\n",
    "\n",
    "        # Fill the corresponding row in the coordinates array\n",
    "        lorenz_data[0][current_index] = coordinates\n",
    "        \n",
    "        # Increment the current index\n",
    "        current_index += 1\n",
    "\n",
    "    new_lorenz_line = figure[0, 0].add_line_collection(data=lorenz_data, thickness=.1, cmap=\"tab10\")\n",
    "\n",
    "    figure.show()\n",
    "    \n",
    "    # Set initial camera position to make animation in gallery render better\n",
    "    figure[0, 0].camera.world.z = 80\n",
    "    \n",
    "    # NOTE: `if __name__ == \"__main__\"` is NOT how to use fastplotlib interactively\n",
    "    # please see our docs for using fastplotlib interactively in ipython and jupyter\n",
    "    if __name__ == \"__main__\":\n",
    "        print(__doc__)\n",
    "        fpl.run()\n",
    "    # Print the size of coordinates_array\n",
    "    # print(\"Coordinates collection complete:\")\n",
    "    # print(\"Size of coordinates_array:\", coordinates_array.shape)\n",
    "\n",
    "except KeyboardInterrupt:\n",
    "    print(\"Stopped listening.\")\n",
    "finally:\n",
    "    socket.close()\n",
    "    context.term()"
   ]
  },
  {
   "cell_type": "code",
   "execution_count": null,
   "id": "1df0f598-31d0-4a79-828b-f3ee2a43cc3a",
   "metadata": {},
   "outputs": [],
   "source": []
  },
  {
   "cell_type": "code",
   "execution_count": null,
   "id": "0dc63fe3-b01c-4176-aac2-5bbc2518dfe0",
   "metadata": {},
   "outputs": [],
   "source": []
  },
  {
   "cell_type": "code",
   "execution_count": null,
   "id": "acc364fa-01e8-4c50-94ab-e4ee638bb2ae",
   "metadata": {},
   "outputs": [],
   "source": []
  }
 ],
 "metadata": {
  "kernelspec": {
   "display_name": "Python 3 (ipykernel)",
   "language": "python",
   "name": "python3"
  },
  "language_info": {
   "codemirror_mode": {
    "name": "ipython",
    "version": 3
   },
   "file_extension": ".py",
   "mimetype": "text/x-python",
   "name": "python",
   "nbconvert_exporter": "python",
   "pygments_lexer": "ipython3",
   "version": "3.10.12"
  }
 },
 "nbformat": 4,
 "nbformat_minor": 5
}
