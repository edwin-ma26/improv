{
 "cells": [
  {
   "cell_type": "code",
   "execution_count": 3,
   "id": "3e3d7881-bf2c-40f1-943e-988c15f427da",
   "metadata": {},
   "outputs": [
    {
     "data": {
      "application/vnd.jupyter.widget-view+json": {
       "model_id": "9f2c5dec0cea4b8e8c4eb5d7b86a3f89",
       "version_major": 2,
       "version_minor": 0
      },
      "text/plain": [
       "RFBOutputContext()"
      ]
     },
     "metadata": {},
     "output_type": "display_data"
    },
    {
     "data": {
      "application/vnd.jupyter.widget-view+json": {
       "model_id": "092e0f456911455aa7d34084541d26ed",
       "version_major": 2,
       "version_minor": 0
      },
      "text/plain": [
       "JupyterOutputContext(children=(JupyterWgpuCanvas(), IpywidgetToolBar(children=(Button(icon='expand-arrows-alt'…"
      ]
     },
     "execution_count": 3,
     "metadata": {},
     "output_type": "execute_result"
    }
   ],
   "source": [
    "import numpy as np\n",
    "import fastplotlib as fpl\n",
    "import time\n",
    "\n",
    "# Create the figure\n",
    "figure = fpl.Figure()\n",
    "\n",
    "# Add a line plot placeholder\n",
    "line_data = np.array([[0, 0, 0], [1, 1, 0], [2, 0, 0], [3, 3, 0]], dtype=np.float32)\n",
    "new_line_data = np.array([[0, 1, 0], [1, 0, 0], [0, 1, 0], [1, 0, 0]], dtype=np.float32)\n",
    "\n",
    "line_graphic = figure[0, 0].add_line(data=line_data, name=\"line\")\n",
    "figure.show()\n",
    "\n",
    "time.sleep(2)\n",
    "figure[0,0].remove_graphic(line_graphic)\n",
    "\n",
    "new_line_graphic = figure[0, 0].add_line(data=new_line_data, name=\"new_line\")\n",
    "figure.show()"
   ]
  },
  {
   "cell_type": "code",
   "execution_count": null,
   "id": "108675b8-3f99-4a92-adda-507116ea810c",
   "metadata": {},
   "outputs": [],
   "source": []
  }
 ],
 "metadata": {
  "kernelspec": {
   "display_name": "Python 3 (ipykernel)",
   "language": "python",
   "name": "python3"
  },
  "language_info": {
   "codemirror_mode": {
    "name": "ipython",
    "version": 3
   },
   "file_extension": ".py",
   "mimetype": "text/x-python",
   "name": "python",
   "nbconvert_exporter": "python",
   "pygments_lexer": "ipython3",
   "version": "3.10.12"
  }
 },
 "nbformat": 4,
 "nbformat_minor": 5
}
