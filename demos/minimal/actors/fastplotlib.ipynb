{
 "cells": [
  {
   "cell_type": "markdown",
   "id": "83566503-c31b-4d83-b6f0-173bc9b2102d",
   "metadata": {},
   "source": [
    "## `fastplotlib` demo"
   ]
  },
  {
   "cell_type": "code",
   "execution_count": 1,
   "id": "282342a1-3257-4b07-a318-81b819f8a46a",
   "metadata": {},
   "outputs": [
    {
     "data": {
      "application/vnd.jupyter.widget-view+json": {
       "model_id": "c0f7d443919245cda4f5e18171f3f4d8",
       "version_major": 2,
       "version_minor": 0
      },
      "text/plain": [
       "Image(value=b'\\x89PNG\\r\\n\\x1a\\n\\x00\\x00\\x00\\rIHDR\\x00\\x00\\x01,\\x00\\x00\\x007\\x08\\x06\\x00\\x00\\x00\\xb6\\x1bw\\x99\\x…"
      ]
     },
     "metadata": {},
     "output_type": "display_data"
    },
    {
     "name": "stderr",
     "output_type": "stream",
     "text": [
      "No windowing system present. Using surfaceless platform\n",
      "No config found!\n",
      "No config found!\n"
     ]
    },
    {
     "name": "stdout",
     "output_type": "stream",
     "text": [
      "Available devices:\n",
      "✅ (default) | NVIDIA GeForce GTX 1080 Ti | DiscreteGPU | Vulkan | 555.42.06\n",
      "❗ | llvmpipe (LLVM 15.0.7, 256 bits) | CPU | Vulkan | Mesa 23.2.1-1ubuntu3.1~22.04.2 (LLVM 15.0.7)\n",
      "❗ | NVIDIA GeForce GTX 1080 Ti/PCIe/SSE2 | Unknown | OpenGL | \n"
     ]
    }
   ],
   "source": [
    "import zmq\n",
    "import numpy as np\n",
    "import fastplotlib as fpl"
   ]
  },
  {
   "cell_type": "code",
   "execution_count": 2,
   "id": "3e98d5f9-4c5e-4b9e-a63b-bd61dbf88e8d",
   "metadata": {},
   "outputs": [],
   "source": [
    "# ZMQ context and socket setup\n",
    "context = zmq.Context()\n",
    "socket = context.socket(zmq.SUB)\n",
    "socket.connect(\"tcp://127.0.0.1:5555\")\n",
    "socket.setsockopt_string(zmq.SUBSCRIBE, \"\")"
   ]
  },
  {
   "cell_type": "code",
   "execution_count": 3,
   "id": "c92fbe02-fe8f-4fd0-94d3-da999b51d51e",
   "metadata": {},
   "outputs": [
    {
     "name": "stdout",
     "output_type": "stream",
     "text": [
      "Listening...\n"
     ]
    },
    {
     "data": {
      "application/vnd.jupyter.widget-view+json": {
       "model_id": "fbbae92c1e344a9d867bcf5366acf7b5",
       "version_major": 2,
       "version_minor": 0
      },
      "text/plain": [
       "RFBOutputContext()"
      ]
     },
     "metadata": {},
     "output_type": "display_data"
    },
    {
     "name": "stderr",
     "output_type": "stream",
     "text": [
      "/home/edwin/edwin_improv/fpl/lib/python3.10/site-packages/fastplotlib/graphics/_features/_base.py:21: UserWarning: casting float64 array to float32\n",
      "  warn(f\"casting {array.dtype} array to float32\")\n"
     ]
    },
    {
     "data": {
      "text/plain": [
       "<weakproxy at 0x70af7bf18e50 to LineGraphic at 0x70af80864fa0>"
      ]
     },
     "execution_count": 3,
     "metadata": {},
     "output_type": "execute_result"
    }
   ],
   "source": [
    "print(\"Listening...\")\n",
    "# Create the figure\n",
    "figure = fpl.Figure()\n",
    "\n",
    "# Add a line plot placeholder\n",
    "xs = np.linspace(-10, 10, 100)\n",
    "cos_ys = np.cos(xs)\n",
    "figure[0, 0].add_line(data=np.column_stack((xs, cos_ys)), name=\"wave\")"
   ]
  },
  {
   "cell_type": "code",
   "execution_count": 4,
   "id": "38a63a8f-8726-42a9-87f9-10fd3c0e6013",
   "metadata": {},
   "outputs": [],
   "source": [
    "def get_buffer():\n",
    "    \"\"\"\n",
    "    Retrieve the buffer from the socket.\n",
    "    \"\"\"\n",
    "    try:\n",
    "        b = socket.recv(zmq.NOBLOCK)  # Non-blocking receive\n",
    "        return b\n",
    "    except zmq.Again:\n",
    "        return None"
   ]
  },
  {
   "cell_type": "code",
   "execution_count": 5,
   "id": "19e7a8c8-e18d-4bb0-b9dc-a475d05c8138",
   "metadata": {},
   "outputs": [],
   "source": [
    "def update_frame(p):\n",
    "    \"\"\"\n",
    "    Update the frame using 2D data received from the socket and add z-coordinates.\n",
    "    \"\"\"\n",
    "    buff = get_buffer()\n",
    "    if buff is not None:\n",
    "        # Deserialize the buffer into a NumPy array\n",
    "        data = np.frombuffer(buff, dtype=np.float64)\n",
    "\n",
    "        # Extract the frame number and 2D values\n",
    "        frame_num = int(data[0])  # First element is the frame number\n",
    "        values = data[1:].reshape(-1, 2)  # Reshape the remaining data into 2D array [x, y]\n",
    "\n",
    "        # Update the line plot\n",
    "        p[\"wave\"].data[:, :2] = values\n",
    "        p.name = f\"frame: {frame_num}\""
   ]
  },
  {
   "cell_type": "code",
   "execution_count": 6,
   "id": "6dc5b86b-660f-4eb1-aadc-0133c5302938",
   "metadata": {},
   "outputs": [
    {
     "data": {
      "application/vnd.jupyter.widget-view+json": {
       "model_id": "9ce7685657a34e82a9635f93aed4c2c9",
       "version_major": 2,
       "version_minor": 0
      },
      "text/plain": [
       "JupyterOutputContext(children=(JupyterWgpuCanvas(), IpywidgetToolBar(children=(Button(icon='expand-arrows-alt'…"
      ]
     },
     "execution_count": 6,
     "metadata": {},
     "output_type": "execute_result"
    }
   ],
   "source": [
    "# Add the animation update function\n",
    "figure[0, 0].add_animations(update_frame)\n",
    "\n",
    "figure.show()"
   ]
  },
  {
   "cell_type": "code",
   "execution_count": null,
   "id": "efe0d7c0-f69b-4842-9567-bb8d549140a4",
   "metadata": {},
   "outputs": [],
   "source": []
  }
 ],
 "metadata": {
  "kernelspec": {
   "display_name": "Python 3 (ipykernel)",
   "language": "python",
   "name": "python3"
  },
  "language_info": {
   "codemirror_mode": {
    "name": "ipython",
    "version": 3
   },
   "file_extension": ".py",
   "mimetype": "text/x-python",
   "name": "python",
   "nbconvert_exporter": "python",
   "pygments_lexer": "ipython3",
   "version": "3.10.12"
  }
 },
 "nbformat": 4,
 "nbformat_minor": 5
}
