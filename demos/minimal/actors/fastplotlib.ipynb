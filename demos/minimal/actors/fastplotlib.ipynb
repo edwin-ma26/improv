{
 "cells": [
  {
   "cell_type": "markdown",
   "id": "83566503-c31b-4d83-b6f0-173bc9b2102d",
   "metadata": {},
   "source": [
    "## `fastplotlib` demo"
   ]
  },
  {
   "cell_type": "code",
   "execution_count": 1,
   "id": "initial_id",
   "metadata": {},
   "outputs": [
    {
     "data": {
      "application/vnd.jupyter.widget-view+json": {
       "model_id": "bb427bf789ec409c8d5a0c5a82fcfea8",
       "version_major": 2,
       "version_minor": 0
      },
      "text/plain": [
       "Image(value=b'\\x89PNG\\r\\n\\x1a\\n\\x00\\x00\\x00\\rIHDR\\x00\\x00\\x01,\\x00\\x00\\x007\\x08\\x06\\x00\\x00\\x00\\xb6\\x1bw\\x99\\x…"
      ]
     },
     "metadata": {},
     "output_type": "display_data"
    },
    {
     "name": "stderr",
     "output_type": "stream",
     "text": [
      "No windowing system present. Using surfaceless platform\n",
      "No config found!\n",
      "No config found!\n"
     ]
    },
    {
     "name": "stdout",
     "output_type": "stream",
     "text": [
      "Available devices:\n",
      "✅ (default) | NVIDIA GeForce GTX 1080 Ti | DiscreteGPU | Vulkan | 555.42.06\n",
      "❗ | llvmpipe (LLVM 15.0.7, 256 bits) | CPU | Vulkan | Mesa 23.2.1-1ubuntu3.1~22.04.2 (LLVM 15.0.7)\n",
      "❗ | NVIDIA GeForce GTX 1080 Ti/PCIe/SSE2 | Unknown | OpenGL | \n"
     ]
    }
   ],
   "source": [
    "import numpy as np\n",
    "import zmq\n",
    "import fastplotlib as fpl"
   ]
  },
  {
   "cell_type": "markdown",
   "id": "74e6f9a5-e4f3-4033-9529-20fcf5068703",
   "metadata": {},
   "source": [
    "### Check if GPU or rendering with CPU via lavapipe is available"
   ]
  },
  {
   "cell_type": "code",
   "execution_count": 2,
   "id": "093c8fd4-bbf8-4374-a661-494a61a73cca",
   "metadata": {},
   "outputs": [],
   "source": [
    "if len(fpl.utils.gpu.enumerate_adapters()) < 1:\n",
    "    raise IndexError(\"WGPU could not enumerate any adapters, fastplotlib will not work.\")"
   ]
  },
  {
   "cell_type": "markdown",
   "id": "24f4a955-c7c5-4b9d-a653-d5daecb27d04",
   "metadata": {},
   "source": [
    "### Setup zmq subscriber client"
   ]
  },
  {
   "cell_type": "code",
   "execution_count": 3,
   "id": "b4182903-b4fe-462a-9f92-71d254bb5e24",
   "metadata": {},
   "outputs": [
    {
     "data": {
      "text/plain": [
       "<SocketContext(connect='tcp://127.0.0.1:5555')>"
      ]
     },
     "execution_count": 3,
     "metadata": {},
     "output_type": "execute_result"
    }
   ],
   "source": [
    "context = zmq.Context()\n",
    "sub = context.socket(zmq.SUB)\n",
    "sub.setsockopt(zmq.SUBSCRIBE, b\"\")\n",
    "\n",
    "# keep only the most recent message\n",
    "sub.setsockopt(zmq.CONFLATE, 1)\n",
    "\n",
    "# address must match publisher in Processor actor\n",
    "sub.connect(\"tcp://127.0.0.1:5555\")"
   ]
  },
  {
   "cell_type": "code",
   "execution_count": 4,
   "id": "b06167bf-5220-46f4-bd13-3506d848bf35",
   "metadata": {},
   "outputs": [],
   "source": [
    "def get_buffer():\n",
    "    \"\"\"\n",
    "    Gets the buffer from the publisher\n",
    "    \"\"\"\n",
    "    try:\n",
    "        b = sub.recv(zmq.NOBLOCK)\n",
    "    except zmq.Again:\n",
    "        pass\n",
    "    else:\n",
    "        return b\n",
    "    \n",
    "    return None"
   ]
  },
  {
   "cell_type": "code",
   "execution_count": 5,
   "id": "8107b2e2-f855-4455-ab45-65351b3cd1ab",
   "metadata": {},
   "outputs": [
    {
     "data": {
      "application/vnd.jupyter.widget-view+json": {
       "model_id": "6e7519d1af5d452daf7c04c8ea0ac54f",
       "version_major": 2,
       "version_minor": 0
      },
      "text/plain": [
       "RFBOutputContext()"
      ]
     },
     "metadata": {},
     "output_type": "display_data"
    },
    {
     "name": "stderr",
     "output_type": "stream",
     "text": [
      "/home/edwin/edwin_improv/fpl/lib/python3.10/site-packages/fastplotlib/graphics/_features/_base.py:21: UserWarning: casting float64 array to float32\n",
      "  warn(f\"casting {array.dtype} array to float32\")\n"
     ]
    },
    {
     "data": {
      "application/vnd.jupyter.widget-view+json": {
       "model_id": "5efef3202fb24294ae765a4ae0bed5bc",
       "version_major": 2,
       "version_minor": 0
      },
      "text/plain": [
       "JupyterOutputContext(children=(JupyterWgpuCanvas(), IpywidgetToolBar(children=(Button(icon='expand-arrows-alt'…"
      ]
     },
     "execution_count": 5,
     "metadata": {},
     "output_type": "execute_result"
    }
   ],
   "source": [
    "\n",
    "# Create the figure\n",
    "figure = fpl.Figure()\n",
    "\n",
    "# Initialize sine and cosine wave data\n",
    "xs = np.linspace(-10, 10, 100)\n",
    "cos_ys = np.cos(xs)\n",
    "sin_ys = np.sin(xs)\n",
    "\n",
    "# Add a line plot placeholder\n",
    "figure[0, 0].add_line(data=np.column_stack((xs, cos_ys)), name=\"wave\")\n",
    "\n",
    "def update_frame(p):\n",
    "    # Receive memory with buffer\n",
    "    buff = get_buffer()  # Replace with a valid data source\n",
    "    \n",
    "    if buff is not None:\n",
    "        # Convert the buffer to a numpy array\n",
    "        a = np.frombuffer(buff, dtype=np.float64)\n",
    "        ix = a[-1]\n",
    "        \n",
    "        # Update wave plot based on parity of ix\n",
    "        if ix % 2 == 0:\n",
    "            # Display cosine wave\n",
    "            new_ys = np.cos(xs)\n",
    "            p[\"wave\"].data = np.column_stack((xs, new_ys, np.zeros_like(xs)))\n",
    "            p[\"wave\"].color = \"blue\"  # Change color for cosine\n",
    "        else:\n",
    "            # Display sine wave\n",
    "            new_ys = np.sin(xs)\n",
    "            p[\"wave\"].data = np.column_stack((xs, new_ys, np.zeros_like(xs)))\n",
    "            p[\"wave\"].color = \"red\"  # Change color for sine\n",
    "        \n",
    "        # Update the plot name to reflect the current frame\n",
    "        p.name = f\"frame: {int(ix)}\"\n",
    "\n",
    "# Add the animation update function\n",
    "figure[0, 0].add_animations(update_frame)\n",
    "\n",
    "# Show the figure\n",
    "figure.show()\n"
   ]
  },
  {
   "cell_type": "markdown",
   "id": "9a791d42-9ba1-4533-a4f2-98f191ba4ac9",
   "metadata": {},
   "source": [
    "## `fastplotlib` is non-blocking!"
   ]
  },
  {
   "cell_type": "code",
   "execution_count": 6,
   "id": "d7138f60-7812-49ca-9655-a6ecdecad5e4",
   "metadata": {},
   "outputs": [
    {
     "data": {
      "text/plain": [
       "{'sent_frames': 123,\n",
       " 'confirmed_frames': 121,\n",
       " 'roundtrip': 0.05958017041860533,\n",
       " 'delivery': -0.5480798748899097,\n",
       " 'img_encoding': 0.007126040003315463,\n",
       " 'fps': 31.430251931495025}"
      ]
     },
     "execution_count": 6,
     "metadata": {},
     "output_type": "execute_result"
    }
   ],
   "source": [
    "figure.canvas.get_stats()"
   ]
  },
  {
   "cell_type": "code",
   "execution_count": 9,
   "id": "8cd5298f-f5bc-480e-9956-64efd3d6bb5b",
   "metadata": {},
   "outputs": [],
   "source": [
    "buff = get_buffer()"
   ]
  },
  {
   "cell_type": "code",
   "execution_count": 12,
   "id": "c37a3f8d-092f-4d11-a352-fdc4fc7279b5",
   "metadata": {},
   "outputs": [],
   "source": [
    "a= np.frombuffer(buff, dtype=np.float64)"
   ]
  },
  {
   "cell_type": "code",
   "execution_count": 13,
   "id": "3c0d3d83-f8af-4965-8984-778dedd1090f",
   "metadata": {},
   "outputs": [
    {
     "data": {
      "text/plain": [
       "(262145,)"
      ]
     },
     "execution_count": 13,
     "metadata": {},
     "output_type": "execute_result"
    }
   ],
   "source": [
    "a.shape"
   ]
  },
  {
   "cell_type": "code",
   "execution_count": 14,
   "id": "d5ab93f1-297d-48bc-9a26-cdedc26f9669",
   "metadata": {},
   "outputs": [
    {
     "data": {
      "text/plain": [
       "229.0"
      ]
     },
     "execution_count": 14,
     "metadata": {},
     "output_type": "execute_result"
    }
   ],
   "source": [
    "a[-1]"
   ]
  },
  {
   "cell_type": "code",
   "execution_count": 17,
   "id": "7d3474c2-9dc5-4549-9b24-7294d6d14a21",
   "metadata": {},
   "outputs": [],
   "source": [
    "figure[0,0][\"img\"].data = a[:-1].reshape(512, 512)"
   ]
  },
  {
   "cell_type": "code",
   "execution_count": 25,
   "id": "b28a2346-c4cf-4de7-b203-f5a8b40bfdd3",
   "metadata": {},
   "outputs": [],
   "source": [
    "figure[0,0].name = \"bah\""
   ]
  },
  {
   "cell_type": "code",
   "execution_count": null,
   "id": "2e8b04e6-3fe2-4b66-81bc-777fb0267350",
   "metadata": {},
   "outputs": [],
   "source": []
  }
 ],
 "metadata": {
  "kernelspec": {
   "display_name": "Python 3 (ipykernel)",
   "language": "python",
   "name": "python3"
  },
  "language_info": {
   "codemirror_mode": {
    "name": "ipython",
    "version": 3
   },
   "file_extension": ".py",
   "mimetype": "text/x-python",
   "name": "python",
   "nbconvert_exporter": "python",
   "pygments_lexer": "ipython3",
   "version": "3.10.12"
  }
 },
 "nbformat": 4,
 "nbformat_minor": 5
}
